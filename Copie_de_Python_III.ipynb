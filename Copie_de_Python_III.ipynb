{
  "nbformat": 4,
  "nbformat_minor": 0,
  "metadata": {
    "colab": {
      "provenance": [],
      "toc_visible": true,
      "include_colab_link": true
    },
    "kernelspec": {
      "name": "python3",
      "display_name": "Python 3"
    },
    "language_info": {
      "name": "python"
    }
  },
  "cells": [
    {
      "cell_type": "markdown",
      "metadata": {
        "id": "view-in-github",
        "colab_type": "text"
      },
      "source": [
        "<a href=\"https://colab.research.google.com/github/turbocradozaure/python-class/blob/S3/Copie_de_Python_III.ipynb\" target=\"_parent\"><img src=\"https://colab.research.google.com/assets/colab-badge.svg\" alt=\"Open In Colab\"/></a>"
      ]
    },
    {
      "cell_type": "markdown",
      "source": [
        "# Python Programming for Business Analytics - Basics of Python - III"
      ],
      "metadata": {
        "id": "UKy1AKf4XVQR"
      }
    },
    {
      "cell_type": "markdown",
      "source": [
        "## Modules"
      ],
      "metadata": {
        "id": "kbM_qoqBXYae"
      }
    },
    {
      "cell_type": "markdown",
      "source": [
        "Python has a rich standard library.\n",
        "\n",
        "Most common modules are numpy, pandas, scikit-learn, matplotlib,..."
      ],
      "metadata": {
        "id": "DEOJihSjXfvM"
      }
    },
    {
      "cell_type": "code",
      "execution_count": null,
      "metadata": {
        "id": "iMGWNdeBXOxN"
      },
      "outputs": [],
      "source": [
        "# importing a whole module\n",
        "import math\n",
        "\n",
        "# Calculating the square root\n",
        "print(\"Square root of 16:\", math.sqrt(16))\n",
        "\n",
        "# Calculating sine of 90 degrees (convert degrees to radians first)\n",
        "print(\"Sine of 90 degrees:\", math.sin(math.radians(90)))"
      ]
    },
    {
      "cell_type": "code",
      "source": [
        "# Use aliases to shorten module names or improve readability.\n",
        "\n",
        "import math as m\n",
        "\n",
        "# Using the alias\n",
        "print(\"Cosine of 45 degrees:\", m.cos(m.radians(45)))"
      ],
      "metadata": {
        "id": "3wVzzpbtXunN"
      },
      "execution_count": null,
      "outputs": []
    },
    {
      "cell_type": "code",
      "source": [
        "# You can import specific functions from a module to avoid importing everything.\n",
        "\n",
        "from math import sqrt, pi\n",
        "\n",
        "print(\"Value of pi:\", pi)\n",
        "print(\"Square root of 25:\", sqrt(25))"
      ],
      "metadata": {
        "id": "yupvcI6SXyIR"
      },
      "execution_count": null,
      "outputs": []
    },
    {
      "cell_type": "code",
      "source": [
        "from random import randint\n",
        "\n",
        "randint(0,100)"
      ],
      "metadata": {
        "id": "0vkD26uKX6PY"
      },
      "execution_count": null,
      "outputs": []
    },
    {
      "cell_type": "code",
      "source": [
        "# getting module version\n",
        "# not all packages have a property version\n",
        "import pandas as pd\n",
        "print(pd.__version__)"
      ],
      "metadata": {
        "id": "46UC07fpyghB"
      },
      "execution_count": null,
      "outputs": []
    },
    {
      "cell_type": "code",
      "source": [
        "import random\n",
        "try:\n",
        "  print(random.__version__)\n",
        "except:\n",
        "  print(\"random module has no attribute version!\")"
      ],
      "metadata": {
        "id": "NwXZ8gKr0K4F"
      },
      "execution_count": null,
      "outputs": []
    },
    {
      "cell_type": "code",
      "source": [
        "# list of all atributes\n",
        "dir(random)"
      ],
      "metadata": {
        "id": "KitG5_BJ0pMm"
      },
      "execution_count": null,
      "outputs": []
    },
    {
      "cell_type": "code",
      "source": [
        "# more detailed information about a specific method (or any attribute)\n",
        "help(random.randint)"
      ],
      "metadata": {
        "id": "z6DS1lxl1KOh"
      },
      "execution_count": null,
      "outputs": []
    },
    {
      "cell_type": "markdown",
      "source": [
        "**list of preinstalled modules**"
      ],
      "metadata": {
        "id": "rebl01AbYvnZ"
      }
    },
    {
      "cell_type": "code",
      "source": [
        "!pip list"
      ],
      "metadata": {
        "id": "Q2uthav_Y03g"
      },
      "execution_count": null,
      "outputs": []
    },
    {
      "cell_type": "markdown",
      "source": [
        "**what if module is not preinstalled on google colab**"
      ],
      "metadata": {
        "id": "AT_by-dJYHC4"
      }
    },
    {
      "cell_type": "code",
      "source": [
        "try:\n",
        "  import janitor\n",
        "except:\n",
        "  print(\"Module is not preinstalled!Installing now...\")\n",
        "  !pip install pyjanitor --quiet"
      ],
      "metadata": {
        "id": "XJt8WJ95YOEA"
      },
      "execution_count": null,
      "outputs": []
    },
    {
      "cell_type": "code",
      "source": [
        "import janitor"
      ],
      "metadata": {
        "id": "5pg_nNKmYi9a"
      },
      "execution_count": null,
      "outputs": []
    },
    {
      "cell_type": "code",
      "source": [
        "# Example Code for Connecting to Google Drive\n",
        "from google.colab import drive\n",
        "print(\"Mounting Google Drive...\")\n",
        "drive.mount('/content/drive')"
      ],
      "metadata": {
        "id": "7CglRNcVdLow"
      },
      "execution_count": null,
      "outputs": []
    },
    {
      "cell_type": "code",
      "source": [
        "# Verifying Drive Connection\n",
        "import os\n",
        "print(\"Listing files in the root directory of Google Drive:\")\n",
        "print(os.listdir('/content/drive/My Drive'))"
      ],
      "metadata": {
        "id": "PpNLjvnfdSuc"
      },
      "execution_count": null,
      "outputs": []
    },
    {
      "cell_type": "markdown",
      "source": [
        "### Tasks"
      ],
      "metadata": {
        "id": "I6YKpQZNZCHk"
      }
    },
    {
      "cell_type": "code",
      "source": [
        "# test if randint is a random function regarding the distribution of even and odd numbers\n",
        "# in a large list there should be 50/50 even/odd numbers\n",
        "# create 1000 random numbers betweeb 1 and 10 000\n",
        "# count list and odd numbers"
      ],
      "metadata": {
        "id": "1NNR-TmpZEi9"
      },
      "execution_count": null,
      "outputs": []
    },
    {
      "cell_type": "markdown",
      "source": [
        "## Pandas - basics"
      ],
      "metadata": {
        "id": "qpTIpGuDeTe-"
      }
    },
    {
      "cell_type": "markdown",
      "source": [
        "- Python Data Analysis Library\n",
        "- originally written by Wes McKinney\n",
        "- creates a Python object with rows and columns called data frame\n",
        "\n",
        "Pandas 'From' Methods,Pandas 'To' Methods\n",
        "- pd.read_csv(),df.to_csv()\n",
        "- pd.read_excel(),df.to_excel()\n",
        "- pd.read_json(),df.to_json()\n",
        "- pd.read_sql(),df.to_sql()\n",
        "- pd.read_html(),df.to_html()\n",
        "- pd.read_parquet(),df.to_parquet()\n",
        "- pd.read_orc(),df.to_orc()\n",
        "- pd.read_feather(),df.to_feather()\n",
        "- pd.read_pickle(),df.to_pickle()\n",
        "- pd.read_clipboard(),df.to_clipboard()"
      ],
      "metadata": {
        "id": "M8PhvE-4eVFZ"
      }
    },
    {
      "cell_type": "code",
      "source": [
        "import pandas as pd"
      ],
      "metadata": {
        "id": "zNGUJIO1fPe2"
      },
      "execution_count": null,
      "outputs": []
    },
    {
      "cell_type": "code",
      "source": [
        "# Creating DataFrames and Series\n",
        "data = {\n",
        "    'Name': ['Alice', 'Bob', 'Charlie'],\n",
        "    'Age': [25, 30, 35],\n",
        "    'Score': [85.5, 90.0, 95.0]\n",
        "}\n",
        "df = pd.DataFrame(data)\n",
        "print(df)"
      ],
      "metadata": {
        "id": "-Ny_tTP3fBm4"
      },
      "execution_count": null,
      "outputs": []
    },
    {
      "cell_type": "markdown",
      "source": [
        "**dataframe vs. series**\n",
        "\n",
        "A Pandas DataFrame is a two-dimensional, size-mutable, potentially heterogeneous tabular data structure with labeled axes (rows and columns). It's like a spreadsheet or SQL table. Structure: It consists of:\n",
        "Rows: Represent individual observations or records.\n",
        "Columns: Represent different variables or features.\n",
        "Index: Labels for the rows.\n",
        "Columns: Labels for the columns.\n",
        "\n",
        "A Pandas Series is a one-dimensional labeled array capable of holding data of any type (integer, string, float, Python objects, etc.). It's essentially a single column of data. Structure: It has two main components:\n",
        "Data: The actual values stored in the Series.\n",
        "Index: Labels for each data point, similar to row labels in a spreadsheet."
      ],
      "metadata": {
        "id": "gE1i3i-Ofj0N"
      }
    },
    {
      "cell_type": "code",
      "source": [
        "series = pd.Series([1, 2, 3, 4], name=\"Numbers\")\n",
        "print(series)"
      ],
      "metadata": {
        "id": "09jybxq2fwEU"
      },
      "execution_count": null,
      "outputs": []
    },
    {
      "cell_type": "markdown",
      "source": [
        "### Importing data and simple checks"
      ],
      "metadata": {
        "id": "HoQO-HPphKAx"
      }
    },
    {
      "cell_type": "code",
      "source": [
        "cars = pd.read_excel(\"https://github.com/urosgodnov/datasets/raw/master/norway_new_car_sales_by_model.xlsx\", engine=\"openpyxl\")\n",
        "cars.head()"
      ],
      "metadata": {
        "id": "zQwBCDz8gK4e"
      },
      "execution_count": null,
      "outputs": []
    },
    {
      "cell_type": "code",
      "source": [
        "diabetes=pd.read_csv(\"https://raw.githubusercontent.com/urosgodnov/datasets/refs/heads/master/diabetes.csv\")\n",
        "diabetes.head()"
      ],
      "metadata": {
        "id": "45sZjuMYhrzm"
      },
      "execution_count": null,
      "outputs": []
    },
    {
      "cell_type": "code",
      "source": [
        "# last 5 rows\n",
        "diabetes.tail()"
      ],
      "metadata": {
        "id": "5E4aZnkXh9iD"
      },
      "execution_count": null,
      "outputs": []
    },
    {
      "cell_type": "code",
      "source": [
        "# column types and memory\n",
        "diabetes.info()"
      ],
      "metadata": {
        "id": "CWB2YVRBiAZ7"
      },
      "execution_count": null,
      "outputs": []
    },
    {
      "cell_type": "code",
      "source": [
        "# number of rows and columns\n",
        "diabetes.shape"
      ],
      "metadata": {
        "id": "7UtgeUK9iDOt"
      },
      "execution_count": null,
      "outputs": []
    },
    {
      "cell_type": "code",
      "source": [
        "# simple statistics\n",
        "diabetes.describe()"
      ],
      "metadata": {
        "id": "ddAWpfaiiGq9"
      },
      "execution_count": null,
      "outputs": []
    },
    {
      "cell_type": "code",
      "source": [
        "# correlations\n",
        "diabetes.corr()"
      ],
      "metadata": {
        "id": "LghjldAai4bV"
      },
      "execution_count": null,
      "outputs": []
    },
    {
      "cell_type": "code",
      "source": [
        "# histograms\n",
        "diabetes.hist(figsize=(10,10))"
      ],
      "metadata": {
        "id": "DWMCQGeFjHAn"
      },
      "execution_count": null,
      "outputs": []
    },
    {
      "cell_type": "code",
      "source": [
        "# skewness\n",
        "diabetes.skew()"
      ],
      "metadata": {
        "id": "S4mBtirpjNwx"
      },
      "execution_count": null,
      "outputs": []
    },
    {
      "cell_type": "code",
      "source": [
        "# list of columns\n",
        "diabetes.columns"
      ],
      "metadata": {
        "id": "G8Z7AjS1ja8S"
      },
      "execution_count": null,
      "outputs": []
    },
    {
      "cell_type": "code",
      "source": [
        "# frequrncy distribution\n",
        "diabetes[\"Number_of_times_pregnant\"].value_counts()"
      ],
      "metadata": {
        "id": "QZgSagKvjm4W"
      },
      "execution_count": null,
      "outputs": []
    },
    {
      "cell_type": "code",
      "source": [
        "# cleaning column names\n",
        "# tip: try to always clean columns name after you import dataset\n",
        "from janitor import clean_names\n",
        "\n",
        "diabetes = clean_names(diabetes)\n",
        "diabetes.columns\n"
      ],
      "metadata": {
        "id": "Y0Yrd9jdlGPA"
      },
      "execution_count": null,
      "outputs": []
    },
    {
      "cell_type": "markdown",
      "source": [
        "**Parquet file type**"
      ],
      "metadata": {
        "id": "T_9L6BcX4c5a"
      }
    },
    {
      "cell_type": "markdown",
      "source": [
        "A Parquet file is a columnar storage file format designed for efficient data processing and analytics. It organizes data by columns rather than rows, enabling faster queries for specific fields, reduced storage due to better compression, and improved performance for large-scale analytics tasks.\n",
        "\n",
        "![image.png](data:image/png;base64,iVBORw0KGgoAAAANSUhEUgAAA48AAADoCAYAAABPcNFwAAAAAXNSR0IArs4c6QAAAARnQU1BAACxjwv8YQUAAAAJcEhZcwAAEnQAABJ0Ad5mH3gAAC1NSURBVHhe7d1/eFT1ge/xD1eeTR41k9tdIT5bNPcJhcFIIK5GqCsguzAuJWQf6IRE5aKSbtquBNgWStshdIWMLYVaYLR12eZSs6LBTLUNUHTwriV4b4NpayCYOkHyOAq7ROhtM9GadOGZ+8fMJGfOTHKSMPkF79fznMfJOd85Oc5wTr6fc74/xoVCoZAAAAAAAOjDfzOvAAAAAADAjPAIAAAAALBEeAQAAAAAWCI8AgAAAAAsER6v1OES2Ww22Ww25e0KmLcCAAAAwFUhQXgMyDM7HIb6XEp95jdiqBmCatzy57doym1z5PyGR7VvtanT/F4AAAAAuAIJwiPGpEvtajt3Qr6nXVoxb4om3rZCe5qTGyE7W45qj9upObes1li6dTBWjxsAAAAYTcbFz/MYkGd2jlzNknS3yp5do1mxBcL+xywV3JFhXnvtOVwiW1GNJMm+tUkNazPNJZLH8LsynDv0vSU3h9f/7oR8J99ToO6AjrYaA2OGVu7/lZ5alG5YN1jGfxeF8gYr5TAXGZXG6nEDAAAAo4vFk8dMzVtaoIJEC8FxRP33mff3fBdfKNdTuyt1oPFDfdj4nFZOjZZqU1XRClWdi30vAAAAAAyURXjEWJOaVaCn6hvkviO65qjWf+9obCEAAAAAGKArD4+/XK9booO2TCyR72PT9vYaOQ3ba9t7NnW2+ORZs0R5Uyb2DPwycYrmlO7Rm78z7iTMVxodICZPnlaps7VWrvwcTYy895Z5q1Xb3WyzU4GXXVqSG933ROXku1Sb6Clc3Iip7XrzX0o055bo75uoKTH7Hpjwcebplj/vGdwmL9816P1ZGm9X2c4Nijag7fxRlXyXjAU61fZWlbYWzdGU7v9Hm2y35GnJN2oViDksn0psNtls0aafkmT4Tm0lMf0IB/qdSlL7ySq58vM0ZWLPsUycMkfOp99MOPBP/z7Pfh73Jb+qPj8l/Dvv98gf8zkBAAAAiLry8PjZcj3tTA2/7qyR60ex01Wc2LmlO1w4fvCkCqLd746s1sS7nHL9+Kj8bYZKf2ebTlSv14IpS/psbtn5tkcLc1fIUxfoDhjtb1VpRe5CeVo65d+1UDkPewx9ADsVqPNoRc4K1RgCbLw2+Uqna8GGGp3oLhcOWytyp6jkcJ9vNumUf9cCTcxdIU+dX+3RYHKpXf46j1bkTtEKb5vpPUlyR4GWd7csrtPxpp5NgacXasq81dp++ITajP877X4dfXqFcnJcenMwIWoQ36l/1xzdcu9qeer8in3LCfn+7bhiP50h+Dzf98lzJPyezl+65HndXAAAAACAkhIela6C7z/dPQiJv9ylmujTx3NV2vS9SJic+5SedhoGbrn0iTQ+QwUbn9OxU6d1+vRpnT51QO75kTKX+mpu6dfWh1x6b/4GeetPq+EnG+ToDkon5HpwjpzlJ5SxcIO89U069uwGzYv+6ku12vKUv2dXJoEdn5ezOlWOjZU6UH9aDQcrtSF6TGpXzcNfiX+62ot27wrllb8pSUqf79aBUx/ow//8QE1Hd0RCdLtqV30hLlAlx0zNnBN93ab3zhs2XeqUUmdq5ZMH1HA68tnXP6eVWdHiHn2zMhrC5urJ06d1+vRr2tDdl7JAldH3nX5Sc6OrB/qdNm+Vs/xE+HV6gXYcbdIH//mhPjgd/s4cn+4pqgF/nv087lsdKlsY/seT+lm3yuZHywIAAACIEYrzXmj3rLRQWlpfy12h3WdM73rq3u7t0yveCYVCn4Re/YcJkXX3xpUPnTkeOv4H07pQKBT66MXQQ9Hf85ktoUbDplf/wXAMs74beue/DBvP7A7dZTzGxc+Gzhs2h45+NTQhum3u7tB7xm0/X2X4f5sUWvVz84H9IfTi8p59f77mk55NhvfetdOw1//6ReirE3o5llAoFPrNltD0mM+rH3r7Xb0wfl7G8ud/czx03vjZRb3dc0xpy18MGf4vTf8uVoVejdkWMcDv1PhvZlWt6T1mg/48+3HcAAAAACwl4cljWOYXf6Ty7PDrwDaXql7frq9Wh9sh2r/1I5VFn2pFZd2tuxPNIHHD3ZoV2Y/a3jM1W+zhWF8m+3jDiiyHlnc/YUpV6ddWKmY82LkOLYm+/m2g1/1qoVtPxk1tka7CdaWKNM6V79/rTNsTOFKlPZFmmIWPmY5Fku6YpbsjLwM+n2Ib+yZf5qd7jiDjjruVYfzsorJ7jkmB871/Rr0Z4HeamdX9halmx3b5E3VwjBplnycAAABwrbEIj3er7Nnn9FzcssPQTDRivF0bfhgdpMWn1X+/PVyBzy7Xc2vtpsIRlzrV9pZPNbtcWr3GqTm3TdGUicYBTnpj16wZ0SgXlarU7kA0SzPifqVdudEA0/l7/cG0Ncp+zywlyj+aMauneeb71sEq0HKy+3VNkWFQmu7FqfCMjZK6uosmUZvO/0fPTzenmz6vznb562q1x71aq1ctUd5tU3TLnxuOabAG8p0u/KJKox/2W1uVN3Gi5hRtVdXJ+H6lI/95AgAAANc2i/DY2zyP82S/wVxW0h0btHlR7KqV394Q+4Qwor1hqxb85URNmedUSblHVT/26cS5tphBU/rSExQTmaibzeG2v8abQ2nEDek9obKjPeEooEb+t3vvVzksLp3Q0e4HpPN094yeTW3eEk35y1uUl79C67dVqcp7VP5zbT0D0AzSgL/T8Xdrx6nX5I70OZQ6deLwdq2+9xbZ7lodMzLuiH+eAAAAwDXOIjwOUOu/avfh2FVV36uKf0p3rkor/na73uwMP7Fc+aRXx06d1gf/GVQw2CR39AnhaNLqV/ezL7u9exqM3mTao48+M7ThaFDBYB9LfZnl/gaq/ad7ep7E5S3R/dF89sv1umtVjdouScpwaMOe8KA5H3wYVDDoVWHPLgZmsN9p+t0q+8lpfXj6mJ56bF5Pc9qWKq2Yvbp7cKKR/jwBAACAa10Sw2NAnkddOiFJqYXasXVeeHXdan3hx7HxMfDTf1V0zM3CZxv01BccmnlrhtJvkKROdV7hE7ArEQi8Z14lSer8zVFFn33Zb49rExsnMzMaX9p09M24+Dy0flerr/xjdIKUdJVWlHb3EfT92x6FG4XaVX7Iq/LiebJnZCg9NTIK6yBd6XeamjFTK799QKc/PK3KJZFnvO1V8tSEP7sR/TwBAAAAJC88Bp5eIddb4dfzvvuESh+r0IZbwz8fXfNY7NyKfYWUt15UVYt55fDp/NEO7XnftPLSCW3/52gYy1TBQuvnWqmfdXQP4PJmxTfli+/GNyTaf+nRktwVqol8xOnFlSr/rKFAHyGu/adV/e7zGBcGk/Wdjs9Q4YroxC/S+fbwfpP1ecYdNwAAAIB+sQiPAR19uVa1CZcTPc1RWz1a8Y3IfH23blDFigxp/Eyt+edoCPDpsX+qjTzxklLTb46+UzXlq1Xb3Ka2tjb5X16tvL+NDLQzYo5q/V8v0daXTyjQ1qbAW1VafdccbY8GykWbtaa3JphGn16pr62IPkGrkXP6ArmeC++zra1Nbe+fkO9HW+W8a7WisXQg/nDi1Z7votoj1xqn5txi0y33u3Q08kFnLK3Ur37giBkA6L93D5zj1+4NHh19v01tbQEd3eXUXaV9HUmq0m+Kvq6Ra02VTrzvl2+DR75BfqeBpxdoTqlHvuY2tf2uU50ft6ut2af134lG2HQ57okE9UF/nn0fty75VfX5KbLZbJp4v0d+wiUAAACQmHnujv7N82icM++90O650XUTQqt+bpwd0LivCaFVtZFJAD96NfTYJPP+wsukf9gd+mYv8/L1zFsYP8+k9Xx+fWw3zp+4aXdoVS/HlvaZx0Kvmucx7Gvuxf96J7T7bxLsJ2ZJdKy9iJmPso/lU3eFHnvpPdM8jRFndofuNZePLPfu/G5oVfTnWaa5MEOh0Pm9+XHv6T7+QXyn7+28K66scZm+/hehmI97kJ9nn8dtmh/0MZ/pzQAAAABCoWTM82hsrqq5O/TEIuNopZkq+35p5MlXp2r+0RUeAOUGh55qfE3uJXalRwdISZ+pwu2v6dSeAvU8wxoBNxWosvE1uZdkds/rqHS75j32nJqanpIj4TwevRhvV9n//lBNz5Zp3tSMnv1JSs2wa94jbj33xpPqaaR5BdIzZJ+7Uu5nj+n0fzToqaWG4zfKKtORxue08o6e40nNmqeyfad1bO1MU+FYGY88p9e2F2pm92eQqow7poX7Uw7iO81Y9DWVzbUrw/iZpmbIPrdMT73xgZq2z4udNmWQn2efx32rQ2WR0V5TP+tW2XzDGwEAAAB0GxcKhULmldecwyWyFYWbStq3NqlhrXWfRgAAAAC4llzxk0cAAAAAwNWP8AgAAAAAsER4BAAAAABYIjwCAAAAACwRHgEAAAAAlhhtFQAAAABgiSePAAAAAABLhEcAAAAAgCXCIwAAAADAEuERAAAAAGCJ8AgAAAAAsER4BAAAAABYIjwCAAAAACwRHgEAAAAAlgiPAAAAAABLhEcAAAAAgCXCIwAAAADAEuERAAAAAGCJ8AgAAAAAsDQuFAqFzCuj2tradPHiRXV0dOjSpUvmzQAAAACAUWD8+PFKS0vTTTfdpIyMDPPmpEgYHj/++GO9++67unz5stLS0pSamqrrrrvOXAwARrXW1lZlZWWZVwMYIZyTADB0urq69Kc//Ul/+MMflJqaqs985jO64YYbzMWuSFyz1Y8//lhNTU1KTU3VzTffrBtuuIHgCAAAAACjWEpKitLS0jRp0iSNGzdOTU1N+vjjj83FrkhceHz33Xf1qU99SmlpaeZNAAAAAIBRbNy4cbrpppt0/fXX69133zVvviIx4bGtra27qSoAAAAAYGz6i7/4C33yySdqa2szbxq0mPB48eJFgiMAAAAAjHHjxo1Tenq6Ll68aN40aDHhsaOjQ6mpqcZVAAAAAIAxKDU1VR0dHebVgxYTHi9dusTgOAAAAABwFUhJSUnqlItxA+YAAAAAAGBGeAQAAAAAWCI8AgAAAAAsER4BAAAAAJYIjwAAAAAAS4RHAAAAAIAlwiMAAAAAwFLSw+PZysWaNm2apk2bqfVHEk1IeVZ7C6Zp2rRpWv+6eRsAjF4XniuOXN/maOcp81YAw+pSh5pf2qZHPpcXOS+nadr0PM1xrtfB982FAQDJkPTw2KNLB7+5TXV/NK8HgLHorA6+2Bh5fUF7fxp9DWDY/b5OWz+Xp2Xf3Kv61g5pfJom3DxBKZc6dOHUQf3ijPkNI+B8vfZufkQLHtqrs+ZtADBGDVl4TElJkTq8+uqTVLAAXAVavNrXIunOXOVK6qo5oPpL5kIAhtwf67TJUap970vKcmr3z0/onVMNOvaLYzrxzgm9ttOpz6SY3zQCfuvVthfrdTZRIywAGKOGLDx23bNEzjSp4zmXnmk1bwWAseXMKwd1VtLcBz1aMV9Sl1dHfm0uBWConfnRFnk7JE3fqEO1FXJkGZNiiib9XYW+dI9hFQAgaYYsPMrm0MYn8pWiM9r5NasmG106+8pOlTrnaGa038LMBVpT2ajuG3bv79XiadM0rWCvzpz3adPSmZFyy7TpyAVJ0pmfrdeymZH337dGe0+Ybved92nbwwu6f8fMOcu06ZWz6ootBQAmzTpQc1bSXBXMn6CF+XMldWnfS3XmglLXWfk2L1Pe9Mh1Zul6HWz1af20aZo2bb1i3nHpgnzffkQLotetmXO0bLNPZ7koAb1o1POVZyVN0peeeFSTx5u3x+to8WpTTP0i/jzrHq9hY+w5HV2/uDJSizHWRX5fp23OSH/L6Xla9u36SJ0lMrbDlw+G39OyTQsM53/dxui4Dx1q3F2smZH9dx1aE95XgbnO1KWDZeGxJLYej9kAAMNu6MKjpLSF35J7vqRT27TpxXDAS+y4dq57Rscv36Yly51yLp+ryZfPyre9WGXm9/3+gDYUblDzzUs097YUqatZ3rIHtLWiVItdv9VNf5+v3AmRoLjy8Z4+l617tey+Ndr76xTNWu6Uc3m+blOzvOsW6Ivm3wEARsd/or0XJM0v0MLrpZT5BZorST/z6qCxX/elM9r70AKtebFZHZqg2YudWmg7rvVFLh01FOsuWzxHa56tV8o9TjmXO5U/XWp+cY0WlHrFVQlI4P23VN8laUK+HFPNG+N1vL5ef1OwSd5TF2SblS/n8rnK1oXwebZgmxoH2/T89we0wVGqugn3yzl/cnjwnmcfidRZUjT575xy3jMpXDYlW47lTjmXz9ZNhl0EX3lcD/+gsfsGdsp8hxwKN5E/Yhzw549HVHtEUopTC+80rAeAETCk4VFKU/63KjRbUv1mlw722u4/Syv2NejEy3tUsaVCFVv26ND38yVJ9YeOxlaiLpxR1uY39NIPK7Tn5Te0Y74kndW+5y5qY+0h7dmyQ9Wv/1gPpUjqOijfr8Lb967bpuaUfO3+5SHt2VKhii07VF1TrlxJ9Z59ajb+DgAwqH/Fqy5Jc/MXKkWSrl+ogvmS5JPv9Z7HF12v7tK2U5I+/aiqf31MP/5ehXY8e0wN37ijpxVFxNln12jbqRTlexp06IcVqthSoR37XlL5TEnHd2kfo7kCvftUumzmdWZ/PCjXlw+qQ2nK/2GDjj27QxVb9uilXx/SxumSLuzVd6oHeZvmwhllPRE5d394SMc25UrddZYJmvuPFar4n+F1ylyir22pUMUWp7INu6g7dFaP7mvQO++8o0Mlk6Tr8/XgAymSzsh7pOfZY9frtaqTNKnkQc3ux5NWABhKQxweJd3sVMU3siXVyfXPvrgKVNgk5WZ9IF/lNm368jLNuS9P08oizT1+3xHbrDTFqRUL0yI/pCn3rsnhl/NX6cGsyOrxszVrQfhl52VJ547oQEs4TK7JizRbmTZN0+7bqkZJunBWFyNvBYAYl+rkfaEr0mQ12rcqJdJ0VfIdPNJ9jTr+f3ySpNlfXKVcQzestAKnwrfDos7qyOEzkeZohmkGps3R1hOSdEFnB1mnBa4Jl7qsu5z8ql4+SZq1URvnR+sNksZP1qNfDJ+RjUdMN6j7a8KjWtVdF5Em3HOfJitBnaUPKYXrtO5Ow3FJmv3Ao5ok6YwvelwXdODFOkm5enR5pL4DACNo6MOjpEkPbde6qVLXIZe21aVowqdNBVr3atlnl2nN9udV/8cszVu2TrtLInfszDInxTT76GazhZ8IRKQa785dVvhiPiFf5Tt3a3fcskq3GYoDQFTXq16Fb2XVaf1f9dx8mvnVSN+o1706EK19Xg7/56YJEyIrIsanxv4sSX+SpAnK32S+HoWXVVyUgHg3TdCnJan1F6o/b95ocrkz/N+bJ8p0Rkr22wcc9mKYn3yOH/jwrgvvmW1eJU19SI/OlHTigHznJV04qoPHJc1cIsfN5sIAMPyGJTxq/GR96YkvaZI65P3qM3rreuPGLh3cvk3NkuY+8YZee3aHKtY8JMddkb4CyRRM1+QFDjn+zrxkx/9hAQB16cgr4aeJSpugCTfHLmnjJale3ldjn10E/2iqjv4xqGDsmoig0qeYr0fhJZuKIhDv+oUqWChJjdr5/bpeWjOZnP8w/umi/22dkaRPT+jz738wmPjMTYqETVAnyLnSIalRB167oAuvH1S9JMdKZ5/HCQDDZXjCoyRNX6cdK9Kkjn3ad8i44YIunAu/sqVFm290qO6VuOElBu/WOzQ7RVLXPn332diZg7ta9sl7ImYVAIRFB6rQbFX8/JiO/SJ2eWNbuOlq4wGfLkjKmhpuVlb3L3t1xjAQx5l/+2HsKKuapDvuTgmP2Lo9tqy6zmjfS8yPCySWovx/WqfJkjp+VqrPrfPqTMygVV0688omPfN/Jc26LzwAzfFt2va6IWZeOqO9/xJuTzB7/iylSJp0a+RR/69+o+bo+dhRp//1fFzsHLj+NLE1iA6c03hkn/YdqpdSHtKD9w/8ySYADIXhC4+Scr/yPTljm/eHK1GfDa88+E+LVbp5k9Y/9Dm5/t1c7krkat3OfKVJat6+WDOXlmrT5k1a//AczSzYqvr/Zy4PANKFg95w6JuVr3kJbvt3j7p64nkdfF+atHyj8tMktezU4juXqXTzJpUunanFR1LCTeQMctd6wmVPbesuu+mrj2jOnYu19fgQPu0AxrqsL6naE34Sd+GVTVr8V9M0LW+O5tw3RzOnz9TidV692yXp+nx9bVOupA4d/HKe5jy8Xps2l2rZnYvDA1vN3KjyZZET+68jQfPcM1q24BGt31yqZfe61JqZ4MTvr8mRprGtO/XIQ+u1/qFtpptIvYgOnHP8GT1zXEpZtpCBcgCMGsMaHnX93Mjcj7FyN1SrYuEkpVw6o7oXD6h1crleemKeqdSVSZu/Q/++b6McWWnq+m2dvC96dbDZptkP79Y6JhMGEOeCfD+plyTNXjwvcZOx7iZ0Z7Tvp2ektLnacWC3nNPTpK7m8PVs0jpV710X3686ba52+Kq1ceFkpV1uVt2LXnlffVu2Ox/V7sdmmUsDMEhbWKHXjv1Y5X+frQkpkjou6ML5C9KEyZr9cIW+fFe43KQV1WrYV6786Wm6cPygvC/WqfnPspW/qVoN+wzzRF6fL/f+jeF+hefrdfBnrZrk+rG2L7Ic07V3tz6q3VscmjBeuvDrgzrYIv2ZuUwvogPnSJP06AMJ+kYCwAgZFwqFQtEf3njjDWVlRYcsBYCxrbW1dXRc097fq8WObTqT8pCqT4SnCAKuRaPmnBztTu3UAuczOjuzXMf2P5T45hUA9FNra6vuvfde8+pBGd4njwBwrbnUId/TP9AZhZufERwB9K1DB59+RmclzS5yEBwBjCqERwBImjptypujxQ+v16ZIH8YFd+Zpzc86pLR8eb5C8zMAvXh/n9Z/eb0euS9P61+XNH2jKqJ9MgFglCA8AkDS3KTbsm0KNh6U90WvvIfqdfbPJmv28nJV+3ZobtyAYQAQ9Sf99vWDqr+Ypuzlu3WsOtrvEQBGD/o8Arhq0b8KGF04JwFg+NHnEQAAAAAwrAiPAAAAAABLhEcAAAAAgCXCIwAAAADAEuERAAAAAGCJ8AgAAAAAsER4BAAAAABYIjwCAAAAACyNC4VCoegPb7zxRuxWAAAAAMCYdu+995pXDUpMeGxpadHUqVNjSwDAGMU1DRhdOCcBYPgl89pLs1UAAAAAgCXCIwAAAADAEuERAAAAAGCJ8AgAAAAAsER4BAAAAABYIjwCAAAAACwRHgEAAAAAlgiPAAAAAABLhEcAAAAAgCXCIwAAAADAEuERAAAAAGCJ8AgAAAAAsDSy4bHVozybTSWHzRsAAAAAAKPJ0IbHSDi0zfYoYN6WkE8lNpvydvWvNAAMucMlstlsMUtvN7x8pcZyefK0mksAuFKBXXmy2UrkM2+ICOzKS1DvCNcvYs/l3s7RgDyz+9oOANeuIQ2PgQNV8mfbZW+uUi0XYABjkO9lyRsMKhhZmrbaVVMUHyB9pTY5T7rV1F1OcuVS+QRG3OES2WxOaX/PeRwMBuUtNheMaK1VVbNd9my/qg5wMxsAjIYwPAZU+4Jfhd/yamW/L8AOVQaDalibad4AACPCsadSDsPPmWu9cmdLNS8bnnu0euSqtsv9fJmiV69wOb9c3+nt+QiAoReQ5/EaqdirykWxWxx7GlSWFbtO0RvfxW55H7DL/0JtP1tOAcC1YejC4+EtcjUXqmhRpgq4AAO4amTKPiN2TbiVxUoVxFREw9c+Ve/vtXkdgKHmV2OzZL/dbt7QC5+2lPtVuNShzCUraTkFACZDFh59L9dIxUVySJELsEtbeukn1KO3Po/xfRViykT7VkaXuL4OAJAsAflPGiuj4VYWmmHvfuoYlTl1hqST8lP5BEaIQ0XFkr98S/9u4hzerxoVqmiRpKwCraT1AADEGKLw6NP+aqlwaaSxV1aBVpqbefVXq0d5Nqdqir09fRUa3eq+8X+4RLZcl2Z092Voklsu5RAgAQwBX2mOXHLLa2pen/DJhj1XCdYCGEaOPV4VqkZO843nBIw3vmk9AADxhiY8Gu/cSVdwAQ7I86BL/mKvgnsMvY6yylS5NrOXvgyZKnve3c8nnQBgJTryYnhx3d6kYH1P30ZrfjX6zesADJ/weAreYslfnhPfeqmb6cZ3tOWUarSf+gQASEMTHqOBLnrnLmxQF+DWWlU1x17IY0RGRHN/3bQ9y64Zkk62JPrjAAADkamyesMIjXL2UflMxK5cHj8CI86xp2eUVX95jmylsbezA7tcphvfV9hyCgCuQskPj5HAp+pwBat7yXXJL6nm8QE0J/U3yt9XxcvfKL/8cuWa525yqsZcFgCSIHNtg5q22uP6UPnfTvB40d+oBGsBjCDHnqCC+wulaqdhyp1I3+VI89ae+kSOXM2Sql1MuwMAQxEeAweq5FdhzLxoxvnRNJCRy6z6C9lzZZdd7sb43xVkyg8AQyR2IJzI6Ksn/XE3xgItJyXNkD3BdAAABsdqICr/24kHsIqxaHPslDvRlk6muSCDkXEW7OrvlGMAcHVLcniM3LkzNVmNylzrVuFALsBZds3oq7zVdgAYAuZQ6FhamODGWN/XQwCDtKioj7pEfL/FvkQHuore+I5pshqVVSZ3sZhyDACSHh4Pb5Grrz6K0SGz+30Bdqhyf6H85TlxU3OU7ApIcmjzVrv85TmGpicK97ssHUDzWABIpNWjPFO/KB0uUU65X4X7K3tC4aLNcmf75Xqw57oT2OWUq7lQXuNgXwCSoI+//bOdqsl2a3N3CPSpxFYSN1ifrzRHruZCuddmds/t2NeNnsQ3iADg2pPU8Oh7uUbq7c5dRPgCPICRUBdVKtjoliIjpIX7T1Ypd0m4QUrm2gYF9xeqpii2j0Lj0oGMhggACWQVaOVJU//topNyNwYNIzwrMqhOZJqgSLmc8hnyBg0BE0DS9Pa3v+qBRKMhm/sx2uQ86VZT9Pw8vF816uvGd8/TTuZ8BHCtGxcKhULRH1paWjR16tTYEgAwRnFNA0YXzkkAGH7JvPYm9ckjAAAAAODqRHgEAAAAAFgiPAIAAAAALBEeAQAAAACWCI8AAAAAAEuERwAAAACAJcIjAAAAAMAS4REAAAAAYInwCAAAAACwRHgEAAAAAFgiPAIAAAAALBEeAQAAAACWxoVCoVD0h5aWltitAAAAAIAxberUqeZVgxIXHpO1YwAYaVzTgNGFcxIAhl8yr700WwUAAAAAWCI8AgAAAAAsER4BAAAAAJYIjwAAAAAAS4RHAAAAAIAlwiMAAAAAwBLhEQAAAABgifAIAAAAALBEeAQAAAAAWCI8AgAAAAAsER4BAAAAAJYIjwAAAAAAS6M/PLZ6lGfLk6fVvAEAAGC0C8gz2yZbqc+8AQDGnOSHx8MlstlscUvJYXNBABgbfKWx17O8XQFzkbgyXPuAYUCdAwCGVfLDoyTJLndjUMFgeGnaaldNERdzAGOPr9Qmp7zd17Pg/kL5y3MSBkgVG8pFlspF5kIArpxPJTabbEWS13TONW21mwsDAJJkiMJjrMy1XrmzpZqXabIBYIxZ6lVwj6Pn50WV8hZL/hdqlSA+AhhyAXlmO1VT7FUwWCnD2SlJylzbwE0bABgiwxIeAWCsciwyV00l++12qblR/u41AflPRtYDGFKBXU65mgvlNd7UAQAMi2EKj341NieqWEU6kRv7KvTRodzcp4hmsAAAXEsCqn3BL/vWzXFPHBOLNG/to57hK42sa/Uoz1Auvmm69b4kKbArL6ZM3q6e20w9+rcvABhthiU8+kqdqsl2y7s2s2dlq0d5thy5Zhj7CHlVWO2UbbYnrjlY1YM27V9KP0oAIy1ceVVxkaHyGr5B5i/PMVQGS0RVEEiy1lpVNUszphrqE30I7HJJ+w19Ihvdslc744NhtVO2Bw39JyN9m411jP7sy1dqU075DEM/zCatfMEpV3PPftTPfQHAaDRE4dEvV27P3TRntV3u58tkvNT7vuOSv9jUl0gOVTa6ZW92aUtMKPRLDzTF9GHIXNsgb7FU83h80ASAoeIrzUnQZM6hyphBO5rkzq6Rk2mGgBEV1/8xq0zuYsn/tvlpYKG89YZ6yqLNcWM1WO6r1SNXtV3uRmM/zEyV1XtV2POu8FqrfQHAKDVE4TF2tNVg40pV5RqbZPi0v1oqXJqg0UlWgVbGDa5j18ol8XcZ4/sdAcBQCTczc8ZVDhPJVFl9k9zZfrm+w/NHYGTFdpFxVks66Y+98RzTkkCSMmWfkaBcH/sKHKiSP3ulCrJi3iDJrtxs8zr1uS8AGK2GKDyaZJWpYX+hVO0K34Vv9eukuQwAjFatHuXZws3vm4INKourHCbSW+UTwKBl2TVD0smW/p1V4bESclT1QFP3DW1vsblU/1jtayBPDa32BQCj1fCER0my56p7uJzIxT8psg37BYBkO1wiW26kmb2xWRuAEeBQUX+nyjlcEmkpEFSDccyFwejHvuIHBexFP/YFAKPV8IVHv7F5abgJR8J5HyOd4WObtPpVdcD8ZyIyaMUMO5U5AEMkIM/jNVJc/+z+CDfPtz9QwDUKSCLH18NjIzgHNbhM+LxMjth9ZU6dITVXqdbczzlSr+lbMo8LAIbO8ITHVo/yimqkYnekuVemyp4PjywWOzS1TyWRO/zmCX795c6YgSfCg1bY5f76QCt0ANBPrbWq6s91ptWjkpiKbGQScxXKzZMFILkiXWH85TkJp7fwlUZGYrfnym66+ewrdaompnQ/9WdfizaH+znnGkdaDsjzoCt2bIb+7AsARqkhCo+xo63acl2asT8Ye+c+q0wN0ak5uoe2d+rk1qYEd/jtcje61RgzgmuhvP3uewQAg2W6nhkW47D6J2Om6YhOQ2Q1sA6AQVlUGR7V+KSxDtFTPyhaZAqZkW37lw6yb2G/9hUdKKtGTkO9Rs83yW0cMKdf+wKA0WlcKBQKRX9oaWnR1KlTY0sAwBjFNQ0YXTgnAWD4JfPaO0RPHgEAAAAAVxPCIwAAAADAEuERAAAAAGCJ8AgAAAAAsER4BAAAAABYIjwCAAAAACwRHgEAAAAAlgiPAAAAAABLhEcAAAAAgCXCIwAAAADAEuERAAAAAGCJ8AgAAAAAsDQuFAqFoj+0tLTEbgUAAAAAjGlTp041rxqUuPCYrB0DwEjjmgaMLpyTADD8knntpdkqAAAAAMAS4REAAAAAYInwCAAAAACwRHgEAAAAAFgiPAIAAAAALBEeAQAAAACWCI8AAAAAAEuERwAAAACAJcIjAAAAAMAS4REAAAAAYInwCAAAAACwRHgEAAAAAFga0fDoK7XJVuozr04qX6lNttkeBcwbAAAAAAD9NrTh8XCJbDZb3FJy2Fxw+AR25clmK9HQRlYAV40E17FE1zBfafy1rreyAAbP6u94YFde7E3jwyWy2fLkaY0tp1aP8mzcYAaAgRii8OhTic0mW5HkDQYVNCxNW+3mwgAwavlejr2ONW21q6aol1BY7I253gWDQVUuMhcCMPJ8Ksl1yZ/tVlN9mTLNmwEACQ1BeAzIM9upmmKvgsFKOUxbM9c2jGhlKnNtQ8LjAoBEHHtirxeZa71yZ0s1L/f23APA6BappxAcAWDAkh4eA7uccjUXyruHeAbgapQp+wzzuoD8JyX77bSsAEY7X2lOuJ5CcASAAUtyeAyo9gW/7Fs3D+zJXrTfQWTJ22XufRBpBmtcTAPtdA++090/KXF/iN76Spj7KyVskgYABEVgzArsypOz2i53Iy2QAGAwkhseW2tV1SzNmDqAe3nVTtkeNPQp2l8of3lOTHgL7HJJ+w39iBrdslc740PmSZfyXi6KlOvvH4aAPLNtcp50q8lwDL32aQJwTfOV5sglt7xrjdc5vxqbJX95juEmVPxNKgAj6ECJcsr9KtzfoLIs80YAQH8kNzwOiqnpyKLNcf2J4vpJZpXJXSz53/YbVkpqniH3QJvLHt4iV7Nd7ueNx1Apb7FU8zgjsAEI32CKhkLX7U0KxjV3c6gyZqCcJrmza+RMNMIjgBHgl6u8Rsp2a/MIjrsAAGPdyIfH4iLTE8JIf6KTflNwi63AOasTlMnO1UAbkvlerpGK3XF3Ie2326XmRpniKYBrTqbK6nuCoVfOXprXG2WqrL5J7my/XN/h+SMw8uxy73fL3uxSzhDPLw0AV7Pkhscsu2ZIOtnSV6Vq4ML9EXNU9UBTTwWu2FxK0gz7ADu/h/suqTpcGTQuOeXERgDxMtc2qGmrXf7yLRbNUnu7EQZgRNjL1LC/UErU7QUA0C/JDY9yqKhY8r9Qm7zK0uGSSOf2oBpi+hglQ6Ryl2ButoH1mwRwLcmcOkPSSflpkgoMO6vzz/+2v/ebyYsqIzd/cgiQADAISQ6PkuPr4WYhziG9KPu0v9q8bnDst9ul6v0WTxAAoEeg5aSkGbL3OehG+Dplf6AgcSUWwOAsKlKh/Ko6kKieET7vCpf2fus3c22DvMXhAa4YGA8ABibp4VFZ4WYh/vKcuOk0FGmCOqCLtT1XdtMfCV+pUzUxhQYvc61bhaqRc7ZpcJzDJQM7TgBXn1aP8szXscPRERsNLRNaPSqJuWEWmYRchXInvcUEcK1zaHPk6WHs3+nIedePQXEce5rCg/MVMagVAAxE8sOjws1CgsEmuU/G9yV0VheqyOKiHsMYRiP72L+0lz6Pg+JQZbBJbrmUYzzWx3Mt//gAuMplFWil+TpWdFLuxmDsCNCSTsZM05Ej1wwvTd+BIZK5tqF7Wi3jeVf1QKLRkBPJVFm9V4Xyy5U7wJvaAHANGxcKhULRH1paWjR16tTYEgAwRnFNA0YXzkkAGH7JvPYOzZNHAAAAAMBVhfAIAAAAALBEeAQAAAAAWCI8AgAAAAAsER4BAAAAAJYIjwAAAAAASzHh8brrrtPly5eNqwAAAAAAY9Dly5d13XXXmVcPWkx4TE1N1SeffGJcBQAAAAAYgz755BOlpqaaVw9aTHi88cYb1d7eblwFAAAAABiD2tvbdeONN5pXD1pMeExPT9fly5cJkAAAAAAwhrW3t+vy5ctKT083bxq0uAFzMjIydPHiRQIkAAAAAIxB7e3tunjxojIyMsybrkhceExJSdGkSZPU3t6uc+fO6aOPPmIQHQAAAAAYxS5fvqyPPvpI586dU3t7uyZNmqSUlBRzsSsyLhQKhcwro9rb2/XRRx+ps7OTAAkAAAAAo9R1112n1NRU3XjjjUltqmrUZ3gEAAAAAECJmq0CAAAAAGBGeAQAAAAAWCI8AgAAAAAsER4BAAAAAJYIjwAAAAAAS4RHAAAAAIAlwiMAAAAAwBLhEQAAAABgifAIAAAAALBEeAQAAAAAWCI8AgAAAAAsER4BAAAAAJYIjwAAAAAAS4RHAAAAAIAlwiMAAAAAwBLhEQAAAABgifAIAAAAALBEeAQAAAAAWCI8AgAAAAAsER4BAAAAAJYIjwAAAAAAS4RHAAAAAICl/w8Ac97GKvYxnwAAAABJRU5ErkJggg==)\n",
        "\n",
        "Row-based File (e.g., CSV):\n",
        "Stored row by row:\n",
        "\n",
        "![image.png](data:image/png;base64,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)\n",
        "\n",
        "\n",
        "Columnar File (Parquet):\n",
        "Stored column by column:\n",
        "\n",
        "![image.png](data:image/png;base64,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)"
      ],
      "metadata": {
        "id": "FUKLpBUp3-x6"
      }
    },
    {
      "cell_type": "code",
      "source": [
        "import os\n",
        "\n",
        "file_path = \"/content/drive/MyDrive/Pandas_data/yellow_tripdata_2024-07.parquet\"\n",
        "\n",
        "if os.path.exists(file_path):\n",
        "    dfnyc = pd.read_parquet(file_path)\n",
        "else:\n",
        "    print(f\"Error: File '{file_path}' does not exist.\")"
      ],
      "metadata": {
        "id": "e9_Xh1xN4j-r"
      },
      "execution_count": null,
      "outputs": []
    },
    {
      "cell_type": "code",
      "source": [
        "dfnyc.info()"
      ],
      "metadata": {
        "id": "gzXVOtUY48DN"
      },
      "execution_count": null,
      "outputs": []
    },
    {
      "cell_type": "markdown",
      "source": [
        "### Exporting data"
      ],
      "metadata": {
        "id": "AfhCoSxkic_N"
      }
    },
    {
      "cell_type": "code",
      "source": [
        "diabetes.to_excel(\"diabetes.xlsx\", index=False)"
      ],
      "metadata": {
        "id": "SdD2zWUzifWg"
      },
      "execution_count": null,
      "outputs": []
    },
    {
      "cell_type": "markdown",
      "source": [
        "### Task"
      ],
      "metadata": {
        "id": "nwy2CcspkVGu"
      }
    },
    {
      "cell_type": "code",
      "source": [
        "# How many unique weight values are present in dataframe?\n",
        "# How many rows and columns does the dataframe have?\n",
        "# How much memory does dataframe use?\n",
        "# Perform summary statistics for numerical columns. What is the mean and std of the height column?\n",
        "# What is the correlation between height and weight?\n",
        "\n",
        "master=pd.read_csv(\"https://github.com/urosgodnov/datasets/blob/master/Master.csv\")"
      ],
      "metadata": {
        "id": "uW3VCCyJkYJK"
      },
      "execution_count": null,
      "outputs": []
    },
    {
      "cell_type": "markdown",
      "source": [
        "### Subsetting"
      ],
      "metadata": {
        "id": "We16HFBTj2kJ"
      }
    },
    {
      "cell_type": "code",
      "source": [
        "data = {\n",
        "    'Name': ['Alice', 'Bob', 'Charlie', 'David'],\n",
        "    'Age': [24, 27, 22, 32],\n",
        "    'Salary': [50000, 60000, 55000, 70000],\n",
        "    'Department': ['HR', 'IT', 'Finance', 'IT']\n",
        "}\n",
        "\n",
        "df = pd.DataFrame(data)"
      ],
      "metadata": {
        "id": "8JOxZDr4-p1L"
      },
      "execution_count": null,
      "outputs": []
    },
    {
      "cell_type": "code",
      "source": [
        "# Subsetting Columns\n",
        "subset_columns = df[['Name', 'Age']]\n",
        "print(\"Subset of columns:\\n\", subset_columns)"
      ],
      "metadata": {
        "id": "_Q7500Mf-q3q"
      },
      "execution_count": null,
      "outputs": []
    },
    {
      "cell_type": "code",
      "source": [
        "# Subsetting Rows by Conditions\n",
        "subset_rows = df[df['Salary'] > 55000]\n",
        "print(\"\\nSubset of rows where Salary > 55000:\\n\", subset_rows)"
      ],
      "metadata": {
        "id": "Pn0L-hop-5Nm"
      },
      "execution_count": null,
      "outputs": []
    },
    {
      "cell_type": "code",
      "source": [
        "# Adding a Calculated Column\n",
        "df['Annual Bonus'] = df['Salary'] * 0.1\n",
        "print(\"\\nDataFrame with calculated 'Annual Bonus' column:\\n\", df)"
      ],
      "metadata": {
        "id": "OUfs7nFl-9ZF"
      },
      "execution_count": null,
      "outputs": []
    },
    {
      "cell_type": "code",
      "source": [
        "# Multiple Conditions for Subsetting\n",
        "subset_multiple_conditions = df[(df['Salary'] > 55000) & (df['Department'] == 'IT')]\n",
        "print(\"\\nSubset with multiple conditions:\\n\", subset_multiple_conditions)"
      ],
      "metadata": {
        "id": "KX4b7ckT_C5a"
      },
      "execution_count": null,
      "outputs": []
    },
    {
      "cell_type": "code",
      "source": [
        "# Subsetting with loc\n",
        "subset_loc = df.loc[df['Age'] > 25, ['Name', 'Salary']]\n",
        "print(\"\\nSubset using loc:\\n\", subset_loc)"
      ],
      "metadata": {
        "id": "pPL--aN5_MMO"
      },
      "execution_count": null,
      "outputs": []
    },
    {
      "cell_type": "code",
      "source": [
        "# Subsetting with iloc\n",
        "subset_iloc = df.iloc[1:3, 0:3]  # Rows 1-2 (inclusive of 1, exclusive of 3), Columns 0-2\n",
        "print(\"\\nSubset using iloc:\\n\", subset_iloc)"
      ],
      "metadata": {
        "id": "DR4OPK7x_Ttm"
      },
      "execution_count": null,
      "outputs": []
    },
    {
      "cell_type": "markdown",
      "source": [
        "**apply function**\n",
        "\n",
        "The apply function is a powerful pandas method used to apply a function along an axis of a DataFrame or Series.\n",
        "\n"
      ],
      "metadata": {
        "id": "W10a7nEzAsEP"
      }
    },
    {
      "cell_type": "code",
      "source": [
        "# Adding a Case Statement\n",
        "# This applies the case_statement function to each row of the DataFrame.\n",
        "def case_statement(row):\n",
        "    if row['Age'] < 25:\n",
        "        return 'Young'\n",
        "    elif 25 <= row['Age'] < 30:\n",
        "        return 'Mid-age'\n",
        "    else:\n",
        "        return 'Experienced'\n",
        "\n",
        "df['Experience Level'] = df.apply(case_statement, axis=1)\n",
        "df"
      ],
      "metadata": {
        "id": "7fTzTf1xAxzc"
      },
      "execution_count": null,
      "outputs": []
    },
    {
      "cell_type": "markdown",
      "source": [
        "**case_when function**\n",
        "\n",
        "np.select\n",
        "\n",
        "The np.select function is a NumPy method used for element-wise evaluation based on multiple conditions."
      ],
      "metadata": {
        "id": "pUHEfCniBDXG"
      }
    },
    {
      "cell_type": "code",
      "source": [
        "# Adding a Case When Equivalent\n",
        "# condlist: A list of conditions. Each condition is a Boolean expression that is evaluated for each row of the DataFrame.\n",
        "# choicelist: A list of values to assign. The values in this list correspond to the conditions in the condlist.\n",
        "# default: A value to assign if none of the conditions in condlist are True.\n",
        "\n",
        "import numpy as np\n",
        "\n",
        "df['Experience Category'] = np.select(\n",
        "    condlist=[\n",
        "        df['Age'] < 25,\n",
        "        (df['Age'] >= 25) & (df['Age'] < 30),\n",
        "        df['Age'] >= 30\n",
        "    ],\n",
        "    choicelist=['Young', 'Mid-age', 'Experienced'],\n",
        "    default='Unknown'\n",
        ")\n",
        "\n",
        "df"
      ],
      "metadata": {
        "id": "eqlyAKf_Bvqv"
      },
      "execution_count": null,
      "outputs": []
    },
    {
      "cell_type": "markdown",
      "source": [
        "### Advanced topics"
      ],
      "metadata": {
        "id": "WHHfCeDgk6Xy"
      }
    },
    {
      "cell_type": "markdown",
      "source": [
        "**Pandas profiling**"
      ],
      "metadata": {
        "id": "-1FIX8Abk_sE"
      }
    },
    {
      "cell_type": "code",
      "source": [
        "!pip install ydata-profiling sweetviz > /dev/null 2>&1"
      ],
      "metadata": {
        "id": "CVNvcgWMk-yC"
      },
      "execution_count": null,
      "outputs": []
    },
    {
      "cell_type": "code",
      "source": [
        "import sweetviz as sv\n",
        "import ydata_profiling as ydp"
      ],
      "metadata": {
        "id": "ytlm6n5H7G-h"
      },
      "execution_count": null,
      "outputs": []
    },
    {
      "cell_type": "code",
      "source": [
        "ydp.ProfileReport(diabetes)"
      ],
      "metadata": {
        "id": "Q0lUC9qU7OEK"
      },
      "execution_count": null,
      "outputs": []
    },
    {
      "cell_type": "code",
      "source": [
        "# targeting dependent variable\n",
        "report = sv.analyze(diabetes, target_feat='class_variable')\n",
        "report.show_html()"
      ],
      "metadata": {
        "id": "Dap3TP5x77MX"
      },
      "execution_count": null,
      "outputs": []
    },
    {
      "cell_type": "markdown",
      "source": [
        "### Tasks"
      ],
      "metadata": {
        "id": "irN-xGvqDZSR"
      }
    },
    {
      "cell_type": "code",
      "source": [
        "# Subset rows where 'Age' is less than 30 and only include 'Name' and 'Age' columns."
      ],
      "metadata": {
        "id": "FoAO3gpPDbnX"
      },
      "execution_count": null,
      "outputs": []
    },
    {
      "cell_type": "code",
      "source": [
        "# Add a new column called 'Tax' that is 20% of the 'Salary'."
      ],
      "metadata": {
        "id": "k_qW1ZxZEHUd"
      },
      "execution_count": null,
      "outputs": []
    },
    {
      "cell_type": "code",
      "source": [
        "# Create a subset of rows where 'Department' is 'IT' and display only the 'Name' and 'Salary'."
      ],
      "metadata": {
        "id": "SSbjPE1dELo4"
      },
      "execution_count": null,
      "outputs": []
    },
    {
      "cell_type": "code",
      "source": [
        "# Add a new column 'Salary After Tax' that calculates the 'Salary' after deducting the 'Tax'."
      ],
      "metadata": {
        "id": "1iS6ddoDEYMU"
      },
      "execution_count": null,
      "outputs": []
    },
    {
      "cell_type": "code",
      "source": [
        "# Using np.select, classify employees based on their 'Salary':\n",
        "# 'Low Income' if Salary < 55000\n",
        "# 'Middle Income' if 55000 <= Salary < 65000\n",
        "# 'High Income' if Salary >= 65000"
      ],
      "metadata": {
        "id": "DVLKJQ7wEmpP"
      },
      "execution_count": null,
      "outputs": []
    },
    {
      "cell_type": "markdown",
      "source": [
        "### Solutions"
      ],
      "metadata": {
        "id": "yIlMMaEVEzeM"
      }
    },
    {
      "cell_type": "code",
      "source": [
        "df.loc[df['Age'] < 30, ['Name', 'Age']]"
      ],
      "metadata": {
        "id": "4dsswZI0E2XV"
      },
      "execution_count": null,
      "outputs": []
    },
    {
      "cell_type": "code",
      "source": [
        "df['Tax'] = df['Salary'] * 0.2"
      ],
      "metadata": {
        "id": "wXDLwjmXE7qT"
      },
      "execution_count": null,
      "outputs": []
    },
    {
      "cell_type": "code",
      "source": [
        "df.loc[df['Department'] == 'IT', ['Name', 'Salary']]"
      ],
      "metadata": {
        "id": "sVCJF8BLE-xH"
      },
      "execution_count": null,
      "outputs": []
    },
    {
      "cell_type": "code",
      "source": [
        "df['Salary After Tax'] = df['Salary'] - df['Tax']"
      ],
      "metadata": {
        "id": "C3bP1bflFEEQ"
      },
      "execution_count": null,
      "outputs": []
    },
    {
      "cell_type": "code",
      "source": [
        "df['Income Level'] = np.select(\n",
        "    condlist=[\n",
        "        df['Salary'] < 55000,\n",
        "        (df['Salary'] >= 55000) & (df['Salary'] < 65000),\n",
        "        df['Salary'] >= 65000\n",
        "    ],\n",
        "    choicelist=['Low Income', 'Middle Income', 'High Income'],\n",
        "    default='Unknown'\n",
        ")"
      ],
      "metadata": {
        "id": "Rq7gDpK3FIxP"
      },
      "execution_count": null,
      "outputs": []
    }
  ]
}